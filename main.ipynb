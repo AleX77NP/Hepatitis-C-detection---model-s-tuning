{
 "cells": [
  {
   "cell_type": "code",
   "execution_count": null,
   "metadata": {},
   "outputs": [],
   "source": [
    "import pandas as pd\n",
    "import matplotlib.pyplot as plt\n",
    "import seaborn as sns\n",
    "from pandas import DataFrame\n",
    "from autoviz.AutoViz_Class import AutoViz_Class\n",
    "from sklearn.model_selection import train_test_split\n",
    "\n",
    "from utils.dataset import load_dataset\n",
    "\n",
    "%matplotlib inline"
   ]
  },
  {
   "cell_type": "code",
   "execution_count": null,
   "metadata": {},
   "outputs": [],
   "source": [
    "# Load dataset and describe it\n",
    "\n",
    "dataset_path = 'dataset/hcvdat0.csv'\n",
    "\n",
    "\n",
    "hcv_df = load_dataset(dataset_path)\n",
    "hcv_df = hcv_df[hcv_df.columns[1:]]  # remove first 'Unnamed' column\n",
    "hcv_df.head(5)\n",
    "\n",
    "print(f'Number of different categories: {hcv_df[\"Category\"].value_counts()}')\n",
    "# describe DataFrame\n",
    "hcv_df.describe()\n",
    "\n",
    "# Identify non-numeric columns and their unique values\n",
    "for column in ['Category', 'Sex']:\n",
    "    unique_values = hcv_df[column].unique()\n",
    "    print(f'Unique values in column {column}:')\n",
    "    print(unique_values)\n",
    "    print('\\n')"
   ]
  },
  {
   "cell_type": "code",
   "execution_count": null,
   "metadata": {},
   "outputs": [],
   "source": [
    "# Transforming string values to numeric (Category, Sex) and filling nulls\n",
    "category_mapping = {\n",
    "    '0=Blood Donor': 0,\n",
    "    '1=Hepatitis': 1,\n",
    "    '2=Fibrosis': 2,\n",
    "    '3=Cirrhosis': 3,\n",
    "    '0s=suspect Blood Donor': 4\n",
    "}\n",
    "\n",
    "sex_mapping = {\n",
    "    'm': 0,\n",
    "    'f': 1\n",
    "}\n",
    "\n",
    "replacement_dict = {\n",
    "    'Category': category_mapping,\n",
    "    'Sex': sex_mapping\n",
    "}\n",
    "\n",
    "hcv_df.replace(replacement_dict, inplace=True)\n",
    "hcv_df = hcv_df.fillna(method='ffill')\n",
    "hcv_df.head(5)"
   ]
  },
  {
   "cell_type": "code",
   "execution_count": null,
   "metadata": {},
   "outputs": [],
   "source": [
    "# creating an AutoViz instance\n",
    "AV = AutoViz_Class()\n",
    "\n",
    "# generating data visualization automatically\n",
    "AV.AutoViz(\n",
    "    filename='',\n",
    "    sep=',',\n",
    "    depVar='',\n",
    "    dfte=hcv_df,\n",
    "    header=0,\n",
    "    verbose=0,\n",
    "    lowess=False,\n",
    "    chart_format='svg',\n",
    "    max_rows_analyzed=10000,\n",
    "    max_cols_analyzed=30\n",
    ")"
   ]
  },
  {
   "cell_type": "code",
   "execution_count": null,
   "metadata": {},
   "outputs": [],
   "source": [
    "# Plot correlation between columns (features)\n",
    "\n",
    "sns.heatmap(hcv_df.corr(), annot = True, annot_kws={'fontsize': 8})"
   ]
  },
  {
   "cell_type": "code",
   "execution_count": null,
   "metadata": {},
   "outputs": [],
   "source": [
    "# Split train and test data\n",
    "x_train, x_test, y_train, y_test = train_test_split(hcv_df, test_size=0.2, shuffle=True)"
   ]
  },
  {
   "cell_type": "code",
   "execution_count": null,
   "metadata": {},
   "outputs": [],
   "source": [
    "# Create tabular predictor\n",
    "y_label = 'Category'"
   ]
  }
 ],
 "metadata": {
  "kernelspec": {
   "display_name": "venv",
   "language": "python",
   "name": "python3"
  },
  "language_info": {
   "codemirror_mode": {
    "name": "ipython",
    "version": 3
   },
   "file_extension": ".py",
   "mimetype": "text/x-python",
   "name": "python",
   "nbconvert_exporter": "python",
   "pygments_lexer": "ipython3",
   "version": "3.9.12"
  }
 },
 "nbformat": 4,
 "nbformat_minor": 2
}
